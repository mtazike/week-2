{
 "cells": [
  {
   "cell_type": "markdown",
   "id": "6cf1aed9",
   "metadata": {},
   "source": [
    "<font color='darkred'> Unless otherwise noted, **this notebook will not be reviewed or autograded.**</font> You are welcome to use it for scratchwork, but **only the files listed in the exercises will be checked.**\n",
    "\n",
    "---\n",
    "\n",
    "# Exercises\n",
    "\n",
    "For these exercises, add your functions to the *apputil\\.py* file. If you like, you're welcome to adjust the *app\\.py* file, but it is not required.\n",
    "\n",
    "## Exercise 1\n",
    "\n",
    "Given enough pennies (1 cent) and nickels (5 cents), write a function `ways(n)` which calculates the number of ways you can make change for a given amount of cents `n`. The function should return the number of ways to yield `n` cents using only pennies and nickels.\n",
    "\n",
    "**Test Cases:**\n",
    "\n",
    "```python\n",
    "function   --->      (num pennies, num nickels)\n",
    "    \n",
    "ways(12)   ---> 3    [(2, 2), (7, 1), (12, 0)]               \n",
    "ways(20)   ---> 5    [(0, 4), (5, 3), (10, 2), (15, 1), (20, 0)]\n",
    "ways(3)    ---> 1    [(3, 0)]\n",
    "ways(0)    ---> 1    [(0, 0)]\n",
    "```\n",
    "\n",
    "*Note: the autograder will be checking only for the function to return the **number** of ways. The items listed to the right, above, are for reference only.*"
   ]
  },
  {
   "cell_type": "markdown",
   "id": "a067cdd5",
   "metadata": {
    "vscode": {
     "languageId": "plaintext"
    }
   },
   "source": [
    "### optional variation\n",
    "\n",
    "Update your `ways` function to incorporate an *arbitrary* set of coin values. I.e., your function should now look something like this:\n",
    "\n",
    "```python\n",
    "def ways(cents, coin_types=[1, 5]):\n",
    "    # code code ...\n",
    "\n",
    ">>> ways(100, [25, 10, 5, 1])\n",
    ">>> 242\n",
    "```\n"
   ]
  },
  {
   "cell_type": "code",
   "execution_count": 1,
   "id": "ae5247e1",
   "metadata": {},
   "outputs": [
    {
     "name": "stdout",
     "output_type": "stream",
     "text": [
      "Number of ways= 3\n",
      "There are 3 ways in 12 cnets.\n"
     ]
    }
   ],
   "source": [
    "def ways(n):\n",
    "    count = 0\n",
    "    for nickles in range(n // 5+1):         #from 0 nickles up to max possible\n",
    "        pennies = n - 5 * nickles           #remaining pennies\n",
    "        if pennies >= 0:                    \n",
    "            count += 1\n",
    "    return count\n",
    "\n",
    "n = int(input(\"Enter an amount (in cents):\"))\n",
    "print(\"Number of ways=\", ways(n))\n",
    "print(f\"There are {ways(n)} ways in {n} cnets.\")"
   ]
  },
  {
   "cell_type": "code",
   "execution_count": 2,
   "id": "7e52e10e",
   "metadata": {},
   "outputs": [
    {
     "name": "stdout",
     "output_type": "stream",
     "text": [
      "3\n",
      "5\n",
      "1\n",
      "1\n"
     ]
    }
   ],
   "source": [
    "def ways(n):\n",
    "    count = 0\n",
    "    for nickles in range(n // 5+1):         #from 0 nickles up to max possible\n",
    "        pennies = n - 5 * nickles           #remaining pennies\n",
    "        if pennies >= 0:                    \n",
    "            count += 1\n",
    "    return count\n",
    "\n",
    "print(ways(12))\n",
    "print(ways(20))\n",
    "print(ways(3))\n",
    "print(ways(0))"
   ]
  },
  {
   "cell_type": "code",
   "execution_count": null,
   "id": "2596657e",
   "metadata": {},
   "outputs": [
    {
     "name": "stdout",
     "output_type": "stream",
     "text": [
      "3\n",
      "5\n",
      "1\n",
      "1\n"
     ]
    }
   ],
   "source": [
    "def ways(n):\n",
    "    count = 0\n",
    "    for nickles in range(n // 5+1):         #from 0 nickles up to max possible\n",
    "        pennies = n - 5 * nickles           #remaining pennies\n",
    "        if pennies >= 0:                    \n",
    "            count += 1\n",
    "    return count\n",
    "\n",
    "print(ways(12))\n",
    "print(ways(20))\n",
    "print(ways(3))\n",
    "print(ways(0))\n",
    "\n",
    "n = int(input(\"Enter an amount (in cents):\"))\n",
    "print(f\"You entered {n} cents.\")\n",
    "print(\"Number of ways =\", ways(n))\n",
    "print(f\"So There are {ways(n)} ways in {n} cents.\")"
   ]
  },
  {
   "cell_type": "code",
   "execution_count": null,
   "id": "1109a682",
   "metadata": {},
   "outputs": [
    {
     "name": "stdout",
     "output_type": "stream",
     "text": [
      "3\n",
      "5\n",
      "1\n",
      "1\n"
     ]
    }
   ],
   "source": [
    "from apputil import ways\n",
    "\n",
    "print(ways(12))\n",
    "print(ways(20))\n",
    "print(ways(3))\n",
    "print(ways(0))"
   ]
  },
  {
   "cell_type": "markdown",
   "id": "28682d59",
   "metadata": {},
   "source": [
    "## Exercise 2\n",
    "\n",
    "Suppose we have student `names`, and test `scores` for each student, respectively. For example, we could have:\n",
    "\n",
    "```python\n",
    "names = np.array(['Hannah', 'Astrid', 'Abdul', 'Mauve', 'Jung'])\n",
    "scores = np.array([99, 71, 85, 62, 91])\n",
    "```\n",
    "\n",
    "### part 1\n",
    "\n",
    "Use NumPy to write a function `lowest_score(names, scores)` that returns the `name` of the student with the lowest `score`.\n",
    "\n",
    "> Hint: take a look at the [argmin](https://numpy.org/doc/stable/reference/generated/numpy.argmin.html) function.\n",
    "\n",
    "### part 2\n",
    "\n",
    "Write a similar function `sort_names(names, scores)` that will list the names of students in *descending* order of test score (i.e., a list of names, with associated scores in order from highest to lowest)."
   ]
  },
  {
   "cell_type": "code",
   "execution_count": 22,
   "id": "8d78555f",
   "metadata": {},
   "outputs": [
    {
     "name": "stdout",
     "output_type": "stream",
     "text": [
      "Mauve\n"
     ]
    }
   ],
   "source": [
    "import numpy as np\n",
    "\n",
    "def lowest_score(names,scores): #find the index of the lowest score\n",
    "    index = np.argmin(scores)   #return the student name at the index\n",
    "    return names[index]\n",
    "\n",
    "names  = np.array(['Hannah', 'Astrid', 'Abdul', 'Mauve', 'Jung'])\n",
    "scores = np.array([99, 71, 85, 62, 91])\n",
    "\n",
    "print(lowest_score(names, scores))"
   ]
  },
  {
   "cell_type": "code",
   "execution_count": null,
   "id": "0152cd3a",
   "metadata": {},
   "outputs": [
    {
     "name": "stdout",
     "output_type": "stream",
     "text": [
      "(array(['Hannah', 'Jung', 'Abdul', 'Astrid', 'Mauve'], dtype='<U6'), array([99, 91, 85, 71, 62]))\n"
     ]
    }
   ],
   "source": [
    "import numpy as np\n",
    "\n",
    "def sort_names(names, scores):\n",
    "    idx = np.argsort(scores)\n",
    "    idx = idx[::-1]\n",
    "    return names[idx]\n",
    "\n",
    "\n",
    "names  = np.array(['Hannah', 'Astrid', 'Abdul', 'Mauve', 'Jung'])\n",
    "scores = np.array([99, 71, 85, 62, 91])\n",
    "\n",
    "print(sort_names(names, scores))\n"
   ]
  },
  {
   "cell_type": "code",
   "execution_count": 2,
   "id": "93b05ff6",
   "metadata": {},
   "outputs": [
    {
     "name": "stdout",
     "output_type": "stream",
     "text": [
      "['Hannah' 'Jung' 'Abdul' 'Astrid' 'Mauve']\n"
     ]
    }
   ],
   "source": [
    "import numpy as np\n",
    "from apputil import sort_names\n",
    "\n",
    "names  = np.array(['Hannah', 'Astrid', 'Abdul', 'Mauve', 'Jung'])\n",
    "scores = np.array([99, 71, 85, 62, 91])\n",
    "\n",
    "print(sort_names(names, scores))"
   ]
  },
  {
   "cell_type": "code",
   "execution_count": 3,
   "id": "076f14b0",
   "metadata": {},
   "outputs": [
    {
     "name": "stdout",
     "output_type": "stream",
     "text": [
      "Mauve\n"
     ]
    }
   ],
   "source": [
    "import numpy as np\n",
    "from apputil import lowest_score\n",
    "\n",
    "names  = np.array(['Hannah', 'Astrid', 'Abdul', 'Mauve', 'Jung'])\n",
    "scores = np.array([99, 71, 85, 62, 91])\n",
    "\n",
    "print(lowest_score(names, scores))"
   ]
  },
  {
   "cell_type": "code",
   "execution_count": null,
   "id": "f6584c7b",
   "metadata": {},
   "outputs": [],
   "source": []
  }
 ],
 "metadata": {
  "kernelspec": {
   "display_name": "base",
   "language": "python",
   "name": "python3"
  },
  "language_info": {
   "codemirror_mode": {
    "name": "ipython",
    "version": 3
   },
   "file_extension": ".py",
   "mimetype": "text/x-python",
   "name": "python",
   "nbconvert_exporter": "python",
   "pygments_lexer": "ipython3",
   "version": "3.11.13"
  }
 },
 "nbformat": 4,
 "nbformat_minor": 5
}
